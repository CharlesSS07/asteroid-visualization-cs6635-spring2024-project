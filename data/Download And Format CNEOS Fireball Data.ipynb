{
 "cells": [
  {
   "cell_type": "markdown",
   "id": "332bfbc9-bfbb-4dcc-a4db-e4eef5e4a16a",
   "metadata": {},
   "source": [
    "This script downloads and formats the CNEOS data from the api into a format that blender can handle."
   ]
  },
  {
   "cell_type": "code",
   "execution_count": 1,
   "id": "489a060e-efa6-42d7-9c92-13b0d2643360",
   "metadata": {},
   "outputs": [
    {
     "name": "stdout",
     "output_type": "stream",
     "text": [
      "  % Total    % Received % Xferd  Average Speed   Time    Time     Time  Current\n",
      "                                 Dload  Upload   Total   Spent    Left  Speed\n",
      "100 27655    0 27655    0     0  23490      0 --:--:--  0:00:01 --:--:-- 23496\n"
     ]
    }
   ],
   "source": [
    "!curl \"https://ssd-api.jpl.nasa.gov/fireball.api?req-vel=true&req-vel-comp=true&vel-comp=true&req-loc=true&req-alt=true\" > ./fireball.json"
   ]
  },
  {
   "cell_type": "code",
   "execution_count": 2,
   "id": "6d4bc2bb-9cc1-47c4-9559-6f3258a4268a",
   "metadata": {},
   "outputs": [],
   "source": [
    "import json\n",
    "import pandas as pd"
   ]
  },
  {
   "cell_type": "code",
   "execution_count": 3,
   "id": "ed9be392-58e1-466b-8c60-0f68967d68b0",
   "metadata": {},
   "outputs": [],
   "source": [
    "with open('fireball.json') as fh:\n",
    "    data = json.load(fh)"
   ]
  },
  {
   "cell_type": "code",
   "execution_count": 4,
   "id": "98ffb3fb-e763-4e21-abe6-ff0edd53d7d2",
   "metadata": {},
   "outputs": [
    {
     "data": {
      "text/plain": [
       "'292'"
      ]
     },
     "execution_count": 4,
     "metadata": {},
     "output_type": "execute_result"
    }
   ],
   "source": [
    "data['count']"
   ]
  },
  {
   "cell_type": "code",
   "execution_count": 5,
   "id": "16fd29a8-ed37-468a-9feb-4e291041efcd",
   "metadata": {},
   "outputs": [
    {
     "data": {
      "text/plain": [
       "{'source': 'NASA/JPL Fireball Data API', 'version': '1.0'}"
      ]
     },
     "execution_count": 5,
     "metadata": {},
     "output_type": "execute_result"
    }
   ],
   "source": [
    "data['signature']"
   ]
  },
  {
   "cell_type": "code",
   "execution_count": 6,
   "id": "3e033017-637e-4170-90f9-6b60bf7edbae",
   "metadata": {},
   "outputs": [
    {
     "data": {
      "text/plain": [
       "['date',\n",
       " 'energy',\n",
       " 'impact-e',\n",
       " 'lat',\n",
       " 'lat-dir',\n",
       " 'lon',\n",
       " 'lon-dir',\n",
       " 'alt',\n",
       " 'vel',\n",
       " 'vx',\n",
       " 'vy',\n",
       " 'vz']"
      ]
     },
     "execution_count": 6,
     "metadata": {},
     "output_type": "execute_result"
    }
   ],
   "source": [
    "data['fields']"
   ]
  },
  {
   "cell_type": "code",
   "execution_count": 7,
   "id": "51047245-7127-469d-b84f-43ff27327216",
   "metadata": {},
   "outputs": [
    {
     "data": {
      "text/plain": [
       "['2024-02-26 11:21:01',\n",
       " '3.7',\n",
       " '0.13',\n",
       " '22.9',\n",
       " 'N',\n",
       " '57.1',\n",
       " 'E',\n",
       " '33.1',\n",
       " '31.3',\n",
       " '-29.3',\n",
       " '5.1',\n",
       " '9.7']"
      ]
     },
     "execution_count": 7,
     "metadata": {},
     "output_type": "execute_result"
    }
   ],
   "source": [
    "data['data'][0]"
   ]
  },
  {
   "cell_type": "code",
   "execution_count": 9,
   "id": "48623f3f-b434-4730-bdcf-89e13049b1f7",
   "metadata": {},
   "outputs": [],
   "source": [
    "from datetime import datetime"
   ]
  },
  {
   "cell_type": "markdown",
   "id": "e338a355-26d7-4d79-86ea-f47c25bdca39",
   "metadata": {},
   "source": [
    "Hi guys, unfortunatley, I have to work on algo or I will not finish my problem sets in time. So I need you to figure out a few things.\n",
    "\n",
    "Firsly, the format blender needs can't have certain data types such as strings, and converting ffrom latitude/longitude to polar coordinates to cartesian coordinates would be a pain in the ass to do in blender so we're doing it once here. Just get it to polar coordinates as polar to cartesian is an easy operation in blender.\n",
    "\n",
    "Next, take all these lists and shove them into a pandas data frame using a dictionary, and then use pandas to write that to a csv (pandas has a function for this but if forget). also, I haven't figured out how velocity. is stored here so you will have to figure that out. it would be best to seperate the components of velocity into their own columns, vx, vy, vz.\n",
    "\n",
    "Thanks guys!"
   ]
  },
  {
   "cell_type": "code",
   "execution_count": 15,
   "id": "38670ce6-d0a9-40e0-8c99-27d5a1bbd4dc",
   "metadata": {
    "jupyter": {
     "source_hidden": true
    },
    "tags": []
   },
   "outputs": [
    {
     "name": "stdout",
     "output_type": "stream",
     "text": [
      "3.7 0.13 22.9 N 57.1 E 33.1 31.3 -29.3 5.1 9.7\n"
     ]
    }
   ],
   "source": [
    "for date, energy, impact, lat, latdir, lon, londir, alt, vel, vx, vy, vz in data['data']:\n",
    "    print(\n",
    "        # datetime.strptime(date, \"%Y-%m-%d %H:%M:%S\"),\n",
    "        float(energy),\n",
    "        float(impact),\n",
    "        float(lat),\n",
    "        latdir,\n",
    "        float(lon),\n",
    "        londir,\n",
    "        alt,\n",
    "        vel,\n",
    "        vx,\n",
    "        vy,\n",
    "        vz\n",
    "    )\n",
    "    break"
   ]
  },
  {
   "cell_type": "code",
   "execution_count": 23,
   "id": "3c942896-d9ac-4a5c-90b5-97ccf5d4b690",
   "metadata": {},
   "outputs": [
    {
     "name": "stdout",
     "output_type": "stream",
     "text": [
      "Requirement already satisfied: utm in /Users/charlesstrauss/miniconda3/envs/plotting/lib/python3.10/site-packages (0.7.0)\n",
      "\n",
      "\u001b[1m[\u001b[0m\u001b[34;49mnotice\u001b[0m\u001b[1;39;49m]\u001b[0m\u001b[39;49m A new release of pip is available: \u001b[0m\u001b[31;49m23.2.1\u001b[0m\u001b[39;49m -> \u001b[0m\u001b[32;49m24.0\u001b[0m\n",
      "\u001b[1m[\u001b[0m\u001b[34;49mnotice\u001b[0m\u001b[1;39;49m]\u001b[0m\u001b[39;49m To update, run: \u001b[0m\u001b[32;49mpip install --upgrade pip\u001b[0m\n"
     ]
    }
   ],
   "source": [
    "!pip install utm\n",
    "import utm\n",
    "import math"
   ]
  },
  {
   "cell_type": "code",
   "execution_count": 48,
   "id": "8fae2d8f-c368-4d57-891a-66d932df1311",
   "metadata": {},
   "outputs": [],
   "source": [
    "dates = []\n",
    "energies = []\n",
    "impacte = []\n",
    "Xs = [] # convert latitude, longitude, elevation into polar coordinates\n",
    "Ys = []\n",
    "Zs = []\n",
    "altitudes = []\n",
    "velocities = []\n",
    "vxs = []\n",
    "vys = []\n",
    "vzs = []\n",
    "for date, energy, impact, lat, latdir, lon, londir, alt, vel, vx, vy, vz in data['data']:\n",
    "        dates.append(datetime.strptime(date, \"%Y-%m-%d %H:%M:%S\"))\n",
    "        energies.append(float(energy))\n",
    "        impacte.append(float(impact))\n",
    "        latitude = math.radians(float(lat))\n",
    "        longitude = math.radians(float(lon))\n",
    "        if latdir.lower()=='s':\n",
    "            latitude *=-1\n",
    "        if londir.lower()=='w':\n",
    "            longitude *=-1\n",
    "        # x, y, _, _ = utm.from_latlon(latitude, longitude)\n",
    "        x = math.sin(math.pi/2-latitude) * math.cos(longitude)\n",
    "        y = math.sin(math.pi/2-latitude) * math.sin(longitude)\n",
    "        z = math.cos(math.pi/2-latitude)\n",
    "        Xs.append(x)\n",
    "        Ys.append(y)\n",
    "        Zs.append(z)\n",
    "        # latitudes.append(float(lat))\n",
    "        # longitudes.append(float(lon))\n",
    "        altitudes.append(float(alt))\n",
    "        velocities.append(float(vel))\n",
    "        vxs.append(float(vx))\n",
    "        vys.append(float(vy))\n",
    "        vzs.append(float(vz))"
   ]
  },
  {
   "cell_type": "code",
   "execution_count": 49,
   "id": "0b61742c-9b83-4730-9bc5-8e4eb3ae9f62",
   "metadata": {},
   "outputs": [],
   "source": [
    "fireballs = {\n",
    "    # 'date': dates, # blender does not parse dates well... could convert to some scalar for mapping to color or time etc.\n",
    "    'energy': energies,\n",
    "    'impacte': impacte,\n",
    "    'X': Xs,\n",
    "    'Y': Ys,\n",
    "    'Z': Zs,\n",
    "    'altitude': altitudes,\n",
    "    'velocity': velocities,\n",
    "    'vx': vxs,\n",
    "    'vy': vys,\n",
    "    'vz': vzs\n",
    "}"
   ]
  },
  {
   "cell_type": "code",
   "execution_count": 50,
   "id": "b0af6d4e-5dba-4888-b8ac-ab00611c99a6",
   "metadata": {},
   "outputs": [],
   "source": [
    "df = pd.DataFrame(fireballs)\n",
    "df.to_csv('fireballs.csv', index=False)"
   ]
  },
  {
   "cell_type": "code",
   "execution_count": 51,
   "id": "2896433e-9992-4eb0-8636-141f600e3eb0",
   "metadata": {},
   "outputs": [
    {
     "data": {
      "text/html": [
       "<div>\n",
       "<style scoped>\n",
       "    .dataframe tbody tr th:only-of-type {\n",
       "        vertical-align: middle;\n",
       "    }\n",
       "\n",
       "    .dataframe tbody tr th {\n",
       "        vertical-align: top;\n",
       "    }\n",
       "\n",
       "    .dataframe thead th {\n",
       "        text-align: right;\n",
       "    }\n",
       "</style>\n",
       "<table border=\"1\" class=\"dataframe\">\n",
       "  <thead>\n",
       "    <tr style=\"text-align: right;\">\n",
       "      <th></th>\n",
       "      <th>energy</th>\n",
       "      <th>impacte</th>\n",
       "      <th>X</th>\n",
       "      <th>Y</th>\n",
       "      <th>Z</th>\n",
       "      <th>altitude</th>\n",
       "      <th>velocity</th>\n",
       "      <th>vx</th>\n",
       "      <th>vy</th>\n",
       "      <th>vz</th>\n",
       "    </tr>\n",
       "  </thead>\n",
       "  <tbody>\n",
       "    <tr>\n",
       "      <th>0</th>\n",
       "      <td>3.7</td>\n",
       "      <td>0.130</td>\n",
       "      <td>0.500364</td>\n",
       "      <td>0.773446</td>\n",
       "      <td>0.389124</td>\n",
       "      <td>33.1</td>\n",
       "      <td>31.3</td>\n",
       "      <td>-29.3</td>\n",
       "      <td>5.1</td>\n",
       "      <td>9.7</td>\n",
       "    </tr>\n",
       "    <tr>\n",
       "      <th>1</th>\n",
       "      <td>4.6</td>\n",
       "      <td>0.150</td>\n",
       "      <td>-0.538828</td>\n",
       "      <td>0.807939</td>\n",
       "      <td>-0.238533</td>\n",
       "      <td>23.0</td>\n",
       "      <td>14.4</td>\n",
       "      <td>14.1</td>\n",
       "      <td>-2.7</td>\n",
       "      <td>1.6</td>\n",
       "    </tr>\n",
       "    <tr>\n",
       "      <th>2</th>\n",
       "      <td>21.7</td>\n",
       "      <td>0.600</td>\n",
       "      <td>0.078522</td>\n",
       "      <td>0.440820</td>\n",
       "      <td>-0.894154</td>\n",
       "      <td>37.0</td>\n",
       "      <td>28.3</td>\n",
       "      <td>20.7</td>\n",
       "      <td>14.6</td>\n",
       "      <td>12.7</td>\n",
       "    </tr>\n",
       "    <tr>\n",
       "      <th>3</th>\n",
       "      <td>3.8</td>\n",
       "      <td>0.130</td>\n",
       "      <td>0.941427</td>\n",
       "      <td>0.295025</td>\n",
       "      <td>-0.163326</td>\n",
       "      <td>37.0</td>\n",
       "      <td>18.3</td>\n",
       "      <td>-17.9</td>\n",
       "      <td>-3.9</td>\n",
       "      <td>0.1</td>\n",
       "    </tr>\n",
       "    <tr>\n",
       "      <th>4</th>\n",
       "      <td>2.6</td>\n",
       "      <td>0.092</td>\n",
       "      <td>0.520691</td>\n",
       "      <td>-0.515267</td>\n",
       "      <td>-0.680721</td>\n",
       "      <td>33.8</td>\n",
       "      <td>17.6</td>\n",
       "      <td>2.8</td>\n",
       "      <td>12.7</td>\n",
       "      <td>11.9</td>\n",
       "    </tr>\n",
       "    <tr>\n",
       "      <th>...</th>\n",
       "      <td>...</td>\n",
       "      <td>...</td>\n",
       "      <td>...</td>\n",
       "      <td>...</td>\n",
       "      <td>...</td>\n",
       "      <td>...</td>\n",
       "      <td>...</td>\n",
       "      <td>...</td>\n",
       "      <td>...</td>\n",
       "      <td>...</td>\n",
       "    </tr>\n",
       "    <tr>\n",
       "      <th>287</th>\n",
       "      <td>62.4</td>\n",
       "      <td>1.500</td>\n",
       "      <td>0.083500</td>\n",
       "      <td>0.710805</td>\n",
       "      <td>-0.698415</td>\n",
       "      <td>29.6</td>\n",
       "      <td>16.3</td>\n",
       "      <td>8.5</td>\n",
       "      <td>-12.1</td>\n",
       "      <td>-6.8</td>\n",
       "    </tr>\n",
       "    <tr>\n",
       "      <th>288</th>\n",
       "      <td>43.3</td>\n",
       "      <td>1.100</td>\n",
       "      <td>-0.934403</td>\n",
       "      <td>0.289246</td>\n",
       "      <td>-0.207912</td>\n",
       "      <td>35.0</td>\n",
       "      <td>25.6</td>\n",
       "      <td>10.5</td>\n",
       "      <td>-23.2</td>\n",
       "      <td>-2.9</td>\n",
       "    </tr>\n",
       "    <tr>\n",
       "      <th>289</th>\n",
       "      <td>51.8</td>\n",
       "      <td>1.300</td>\n",
       "      <td>-0.310726</td>\n",
       "      <td>0.297975</td>\n",
       "      <td>-0.902585</td>\n",
       "      <td>23.0</td>\n",
       "      <td>20.1</td>\n",
       "      <td>14.8</td>\n",
       "      <td>-8.7</td>\n",
       "      <td>10.4</td>\n",
       "    </tr>\n",
       "    <tr>\n",
       "      <th>290</th>\n",
       "      <td>215.0</td>\n",
       "      <td>4.600</td>\n",
       "      <td>0.055367</td>\n",
       "      <td>0.931937</td>\n",
       "      <td>0.358368</td>\n",
       "      <td>26.0</td>\n",
       "      <td>18.2</td>\n",
       "      <td>-1.0</td>\n",
       "      <td>-5.4</td>\n",
       "      <td>-17.3</td>\n",
       "    </tr>\n",
       "    <tr>\n",
       "      <th>291</th>\n",
       "      <td>7.4</td>\n",
       "      <td>0.230</td>\n",
       "      <td>0.683031</td>\n",
       "      <td>0.450376</td>\n",
       "      <td>-0.575005</td>\n",
       "      <td>30.0</td>\n",
       "      <td>17.1</td>\n",
       "      <td>6.0</td>\n",
       "      <td>-10.6</td>\n",
       "      <td>12.0</td>\n",
       "    </tr>\n",
       "  </tbody>\n",
       "</table>\n",
       "<p>292 rows × 10 columns</p>\n",
       "</div>"
      ],
      "text/plain": [
       "     energy  impacte         X         Y         Z  altitude  velocity    vx  \\\n",
       "0       3.7    0.130  0.500364  0.773446  0.389124      33.1      31.3 -29.3   \n",
       "1       4.6    0.150 -0.538828  0.807939 -0.238533      23.0      14.4  14.1   \n",
       "2      21.7    0.600  0.078522  0.440820 -0.894154      37.0      28.3  20.7   \n",
       "3       3.8    0.130  0.941427  0.295025 -0.163326      37.0      18.3 -17.9   \n",
       "4       2.6    0.092  0.520691 -0.515267 -0.680721      33.8      17.6   2.8   \n",
       "..      ...      ...       ...       ...       ...       ...       ...   ...   \n",
       "287    62.4    1.500  0.083500  0.710805 -0.698415      29.6      16.3   8.5   \n",
       "288    43.3    1.100 -0.934403  0.289246 -0.207912      35.0      25.6  10.5   \n",
       "289    51.8    1.300 -0.310726  0.297975 -0.902585      23.0      20.1  14.8   \n",
       "290   215.0    4.600  0.055367  0.931937  0.358368      26.0      18.2  -1.0   \n",
       "291     7.4    0.230  0.683031  0.450376 -0.575005      30.0      17.1   6.0   \n",
       "\n",
       "       vy    vz  \n",
       "0     5.1   9.7  \n",
       "1    -2.7   1.6  \n",
       "2    14.6  12.7  \n",
       "3    -3.9   0.1  \n",
       "4    12.7  11.9  \n",
       "..    ...   ...  \n",
       "287 -12.1  -6.8  \n",
       "288 -23.2  -2.9  \n",
       "289  -8.7  10.4  \n",
       "290  -5.4 -17.3  \n",
       "291 -10.6  12.0  \n",
       "\n",
       "[292 rows x 10 columns]"
      ]
     },
     "execution_count": 51,
     "metadata": {},
     "output_type": "execute_result"
    }
   ],
   "source": [
    "pd.read_csv('fireballs.csv')"
   ]
  },
  {
   "cell_type": "code",
   "execution_count": 54,
   "id": "901310d8-e6ea-4212-9a36-05a443ffcda1",
   "metadata": {},
   "outputs": [
    {
     "data": {
      "text/plain": [
       "(440.0, 37500.0)"
      ]
     },
     "execution_count": 54,
     "metadata": {},
     "output_type": "execute_result"
    }
   ],
   "source": [
    "max(impacte), max(energies)"
   ]
  },
  {
   "cell_type": "code",
   "execution_count": null,
   "id": "29350895-d0ad-40ee-9c79-50e6cf8bcc31",
   "metadata": {},
   "outputs": [],
   "source": []
  }
 ],
 "metadata": {
  "kernelspec": {
   "display_name": "Python 3 (ipykernel)",
   "language": "python",
   "name": "python3"
  },
  "language_info": {
   "codemirror_mode": {
    "name": "ipython",
    "version": 3
   },
   "file_extension": ".py",
   "mimetype": "text/x-python",
   "name": "python",
   "nbconvert_exporter": "python",
   "pygments_lexer": "ipython3",
   "version": "3.10.8"
  }
 },
 "nbformat": 4,
 "nbformat_minor": 5
}
