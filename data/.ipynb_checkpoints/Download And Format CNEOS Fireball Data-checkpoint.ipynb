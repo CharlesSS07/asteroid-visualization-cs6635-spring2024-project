{
 "cells": [
  {
   "cell_type": "code",
   "execution_count": 1,
   "id": "489a060e-efa6-42d7-9c92-13b0d2643360",
   "metadata": {},
   "outputs": [
    {
     "name": "stdout",
     "output_type": "stream",
     "text": [
      "  % Total    % Received % Xferd  Average Speed   Time    Time     Time  Current\n",
      "                                 Dload  Upload   Total   Spent    Left  Speed\n",
      "100 68972    0 68972    0     0   176k      0 --:--:-- --:--:-- --:--:--  176k\n"
     ]
    }
   ],
   "source": [
    "!curl https://ssd-api.jpl.nasa.gov/fireball.api > ./fireball.json"
   ]
  },
  {
   "cell_type": "code",
   "execution_count": 3,
   "id": "6d4bc2bb-9cc1-47c4-9559-6f3258a4268a",
   "metadata": {},
   "outputs": [],
   "source": [
    "import json\n",
    "import pandas as pd"
   ]
  },
  {
   "cell_type": "code",
   "execution_count": 7,
   "id": "ed9be392-58e1-466b-8c60-0f68967d68b0",
   "metadata": {},
   "outputs": [],
   "source": [
    "with open('fireball.json') as fh:\n",
    "    data = json.load(fh)"
   ]
  },
  {
   "cell_type": "code",
   "execution_count": 12,
   "id": "98ffb3fb-e763-4e21-abe6-ff0edd53d7d2",
   "metadata": {},
   "outputs": [
    {
     "data": {
      "text/plain": [
       "'973'"
      ]
     },
     "execution_count": 12,
     "metadata": {},
     "output_type": "execute_result"
    }
   ],
   "source": [
    "data['count']"
   ]
  },
  {
   "cell_type": "code",
   "execution_count": 14,
   "id": "16fd29a8-ed37-468a-9feb-4e291041efcd",
   "metadata": {},
   "outputs": [
    {
     "data": {
      "text/plain": [
       "{'source': 'NASA/JPL Fireball Data API', 'version': '1.0'}"
      ]
     },
     "execution_count": 14,
     "metadata": {},
     "output_type": "execute_result"
    }
   ],
   "source": [
    "data['signature']"
   ]
  },
  {
   "cell_type": "code",
   "execution_count": 17,
   "id": "3e033017-637e-4170-90f9-6b60bf7edbae",
   "metadata": {},
   "outputs": [
    {
     "data": {
      "text/plain": [
       "['date',\n",
       " 'energy',\n",
       " 'impact-e',\n",
       " 'lat',\n",
       " 'lat-dir',\n",
       " 'lon',\n",
       " 'lon-dir',\n",
       " 'alt',\n",
       " 'vel']"
      ]
     },
     "execution_count": 17,
     "metadata": {},
     "output_type": "execute_result"
    }
   ],
   "source": [
    "data['fields']"
   ]
  },
  {
   "cell_type": "code",
   "execution_count": 18,
   "id": "51047245-7127-469d-b84f-43ff27327216",
   "metadata": {},
   "outputs": [
    {
     "data": {
      "text/plain": [
       "['2024-02-26 11:21:01',\n",
       " '3.7',\n",
       " '0.13',\n",
       " '22.9',\n",
       " 'N',\n",
       " '57.1',\n",
       " 'E',\n",
       " '33.1',\n",
       " '31.3']"
      ]
     },
     "execution_count": 18,
     "metadata": {},
     "output_type": "execute_result"
    }
   ],
   "source": [
    "data['data'][0]"
   ]
  },
  {
   "cell_type": "code",
   "execution_count": null,
   "id": "f1b1332c-cd25-48b3-8093-f624835c19d4",
   "metadata": {},
   "outputs": [],
   "source": []
  }
 ],
 "metadata": {
  "kernelspec": {
   "display_name": "Python 3 (ipykernel)",
   "language": "python",
   "name": "python3"
  },
  "language_info": {
   "codemirror_mode": {
    "name": "ipython",
    "version": 3
   },
   "file_extension": ".py",
   "mimetype": "text/x-python",
   "name": "python",
   "nbconvert_exporter": "python",
   "pygments_lexer": "ipython3",
   "version": "3.10.8"
  }
 },
 "nbformat": 4,
 "nbformat_minor": 5
}
